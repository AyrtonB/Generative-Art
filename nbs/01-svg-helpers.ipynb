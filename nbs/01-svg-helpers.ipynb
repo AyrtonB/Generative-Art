{
 "cells": [
  {
   "cell_type": "code",
   "execution_count": 1,
   "metadata": {},
   "outputs": [],
   "source": [
    "# default_exp svg"
   ]
  },
  {
   "cell_type": "markdown",
   "metadata": {},
   "source": [
    "# SVG Helpers\n",
    "\n",
    "<br>\n",
    "\n",
    "### Imports"
   ]
  },
  {
   "cell_type": "code",
   "execution_count": 2,
   "metadata": {},
   "outputs": [],
   "source": [
    "#exports\n",
    "import cairo\n",
    "\n",
    "import math\n",
    "import random\n",
    "\n",
    "import PIL\n",
    "from PIL.PngImagePlugin import PngImageFile\n",
    "from io import BytesIO\n",
    "\n",
    "import IPython"
   ]
  },
  {
   "cell_type": "markdown",
   "metadata": {},
   "source": [
    "<br>\n",
    "\n",
    "### General Helpers\n",
    "\n",
    "The most important helper function that we'll create is `draw_img`. The function accepts a mapping from operations to their parameters, it then creates and returns the SVG image."
   ]
  },
  {
   "cell_type": "code",
   "execution_count": 3,
   "metadata": {},
   "outputs": [],
   "source": [
    "#exports\n",
    "def draw_img(draw_ops, width=500, height=300):\n",
    "    svgio = BytesIO()\n",
    "\n",
    "    with cairo.SVGSurface(svgio, width, height) as surface:\n",
    "        context = cairo.Context(surface)\n",
    "\n",
    "        for (draw_func, draw_kwargs) in draw_ops:\n",
    "            draw_func(context, **draw_kwargs)\n",
    "            \n",
    "    return svgio"
   ]
  },
  {
   "cell_type": "markdown",
   "metadata": {},
   "source": [
    "<br>\n",
    "\n",
    "We'll also create a function that allows us to easily visualise the image within an IPython notebook"
   ]
  },
  {
   "cell_type": "code",
   "execution_count": 4,
   "metadata": {},
   "outputs": [],
   "source": [
    "#exports\n",
    "def vis_graphic(img):\n",
    "    img_type_to_display = {\n",
    "        PngImageFile: display, \n",
    "        BytesIO: lambda img: IPython.display.SVG(data=img.getvalue())\n",
    "    }\n",
    "    \n",
    "    return img_type_to_display[type(img)](img)"
   ]
  },
  {
   "cell_type": "markdown",
   "metadata": {},
   "source": [
    "<br>\n",
    "\n",
    "### Canvas Helpers\n",
    "\n",
    "A common operation at the start of producing a graphic is to create a background"
   ]
  },
  {
   "cell_type": "code",
   "execution_count": 5,
   "metadata": {},
   "outputs": [],
   "source": [
    "#exports\n",
    "def draw_background(context, width, height, bkg_r=.3, bkg_g=.3, bkg_b=.3):\n",
    "    context.set_source_rgb(bkg_r, bkg_g, bkg_b)\n",
    "    context.rectangle(0, 0, width, height)\n",
    "    context.fill()"
   ]
  },
  {
   "cell_type": "markdown",
   "metadata": {},
   "source": [
    "<br>\n",
    "\n",
    "We'll also want to easily add a border to canvas"
   ]
  },
  {
   "cell_type": "code",
   "execution_count": 6,
   "metadata": {},
   "outputs": [],
   "source": [
    "#exports\n",
    "def draw_border(context, border_size, width, height, bkg_r=243/255, bkg_g=156/255, bkg_b=18/255):\n",
    "    context.set_source_rgb(bkg_r, bkg_g, bkg_b)\n",
    "    context.rectangle(0, 0, border_size, height)\n",
    "    context.rectangle(0, 0, width, border_size)\n",
    "    context.rectangle(0, height-border_size, width, border_size)\n",
    "    context.rectangle(width-border_size, 0, border_size, height)\n",
    "    context.fill()"
   ]
  },
  {
   "cell_type": "markdown",
   "metadata": {},
   "source": [
    "<br>\n",
    "\n",
    "### Component Constructors"
   ]
  },
  {
   "cell_type": "code",
   "execution_count": 7,
   "metadata": {},
   "outputs": [],
   "source": [
    "#exports\n",
    "def draw_circle_fill(context, x, y, radius, r, g, b):\n",
    "    context.set_source_rgb(r, g, b)\n",
    "    context.arc(x, y, radius, 0, 2*math.pi)\n",
    "    context.fill()"
   ]
  },
  {
   "cell_type": "code",
   "execution_count": null,
   "metadata": {},
   "outputs": [],
   "source": []
  },
  {
   "cell_type": "code",
   "execution_count": null,
   "metadata": {},
   "outputs": [],
   "source": []
  },
  {
   "cell_type": "code",
   "execution_count": 8,
   "metadata": {},
   "outputs": [
    {
     "name": "stdout",
     "output_type": "stream",
     "text": [
      "Converted 01-svg-helpers.ipynb.\n",
      "Converted 02-solar-system.ipynb.\n",
      "Converted 03-scenery-dither.ipynb.\n"
     ]
    }
   ],
   "source": [
    "#hide\n",
    "from nbdev.export import *\n",
    "notebook2script()"
   ]
  }
 ],
 "metadata": {
  "kernelspec": {
   "display_name": "GenArt",
   "language": "python",
   "name": "genart"
  },
  "language_info": {
   "codemirror_mode": {
    "name": "ipython",
    "version": 3
   },
   "file_extension": ".py",
   "mimetype": "text/x-python",
   "name": "python",
   "nbconvert_exporter": "python",
   "pygments_lexer": "ipython3",
   "version": "3.7.9"
  }
 },
 "nbformat": 4,
 "nbformat_minor": 4
}

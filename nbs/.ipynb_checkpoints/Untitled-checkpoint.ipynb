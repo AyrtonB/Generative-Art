{
 "cells": [
  {
   "cell_type": "code",
   "execution_count": null,
   "metadata": {},
   "outputs": [],
   "source": [
    "# Should recreate the bowie effect\n",
    "# Should output an SVG with dots\n",
    "# Should separate the vector gen for the dot size and the dot drawing\n",
    "# Could interpolate between two images and create a GIF of the transition\n",
    "\n",
    "# First dither then use the output to stipple"
   ]
  }
 ],
 "metadata": {
  "kernelspec": {
   "display_name": "GenArt",
   "language": "python",
   "name": "genart"
  },
  "language_info": {
   "codemirror_mode": {
    "name": "ipython",
    "version": 3
   },
   "file_extension": ".py",
   "mimetype": "text/x-python",
   "name": "python",
   "nbconvert_exporter": "python",
   "pygments_lexer": "ipython3",
   "version": "3.7.9"
  }
 },
 "nbformat": 4,
 "nbformat_minor": 4
}
